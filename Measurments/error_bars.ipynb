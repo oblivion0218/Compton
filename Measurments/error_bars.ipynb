{
 "cells": [
  {
   "cell_type": "markdown",
   "id": "a48792c8",
   "metadata": {},
   "source": [
    "# Error bars\n",
    "\n",
    "Given the formula that links the differential cross section to the event rate measured by our experiment:\n",
    "\n",
    "$$\n",
    "\\frac{dR}{d \\Omega} = \\epsilon_{spectrometer}\\left(\\theta \\right) \\cdot \\frac{n_{gate}}{T} \\cdot n_{c} \\cdot \\wp(\\theta; \\lambda', \\lambda '') \\cdot \\frac{d \\sigma}{d \\Omega}\n",
    "$$\n",
    "\n",
    "it is crucial to correctly evaluate the uncertainities of these measurements. "
   ]
  },
  {
   "cell_type": "markdown",
   "id": "d7ec13b0",
   "metadata": {},
   "source": [
    "## Statistical and systematical uncertainties + work flow\n",
    "First thing first it is fundamental to distinguish between the various sources of errors one can come across during a measurement in a nuclear physics' experiment.\n",
    "In particular we need to separate the contributions given by $\\textit{statistical}$ and $\\textit{systematical}$ uncertainties:\n",
    "\n",
    "- Statistical uncertainities could come from the counting of photons or the errors associated to the fit parameters, a square sum will be used to take account of them.\n",
    "- Systematical uncertainties arise from various effects, such as the shift of the Compton peak, the errors associated with the geometrical measurements of the apparatus and so on, we'll take account of them with a square sum as well.\n",
    "\n",
    "By looking at the expression above one could come up with an expression for the uncertainty that looks like:\n",
    "\n",
    "$$\n",
    "\\left(\\frac{\\delta R}{R} \\right)^2 = \\left(\\frac{\\delta \\epsilon_{spectrometer}}{\\epsilon_{spectrometer}} \\right)^2 + \\left(\\frac{\\delta n_{gate}}{n_{gate}} \\right)^2 + \\left(\\frac{\\delta n_c}{n_c} \\right)^2 + \\left(\\frac{\\delta \\wp}{\\wp} \\right)^2 \n",
    "$$\n",
    "\n",
    "assuming every quantity considered in this expression is independent from one another and has a relatively small error associated to it.\n",
    "\n",
    "To make sure randomness and bias are not mixed together these two kinds of uncertainties will be combined as:\n",
    "\n",
    "$$\n",
    "\\sigma_{tot} = \\sigma_{statistic} + \\sigma_{systematic}\n",
    "$$\n",
    "\n",
    "so that one can split the two contributes in:\n",
    "\n",
    "$$ \\left(\\frac{\\delta Q_{stat}}{Q} \\right)^2 = \\sum_{X \\, \\in \\, (\\epsilon_{spectr.}, n_{gate}, T, n_c, \\wp)}  \\left(\\frac{\\delta X_{stat}}{X} \\right)^2 $$\n",
    "$$ \\left(\\frac{\\delta Q_{sist}}{Q} \\right)^2 = \\sum_{X \\, \\in \\, (\\epsilon_{spectr.}, n_{gate}, T, n_c, \\wp)}  \\left(\\frac{\\delta X_{sist}}{X} \\right)^2 $$\n"
   ]
  },
  {
   "cell_type": "markdown",
   "id": "6b8b9bee",
   "metadata": {},
   "source": [
    "## $n_c$ uncertainty\n",
    "\n",
    "Given:\n",
    "\n",
    "$$\n",
    "n_c = \\rho \\frac{N_a \\cdot Z}{MM}\n",
    "$$\n",
    "\n",
    "where: \n",
    "- $\\rho$ is the density of the scattering target\n",
    "- $N_a$ is the Avogadro number\n",
    "- $\\text{MM}$ is the molar mass of the scattering target\n",
    "\n",
    "One can clearly see that all these quantities are known with extreme accuracy, we won't take account of their uncertainties."
   ]
  },
  {
   "cell_type": "markdown",
   "id": "cee84ea8",
   "metadata": {},
   "source": [
    "## $\\epsilon_{spectrometer}$ uncertainty\n",
    "\n",
    "In this case the value of $\\epsilon_{spectrometer}$ is obtained by an interpolation, the error associated to it will then be consider as a statistical uncertainty. Given the formula used to fit the efficiency curve: \n",
    "\n",
    "$$\n",
    "\\epsilon_{spectrometer} = A \\cdot E^{-B} \\cdot \\exp(-C \\cdot E) + D\n",
    "$$\n",
    "\n",
    "where $A,B,C,D$ are all model parameters and $E$ is the energy of the incoming gamma ray. Given that, one can compute the error associated to this quantity as:\n",
    "\n",
    "$$\n",
    "\\delta \\epsilon = \\left( \\frac{\\partial \\epsilon}{\\partial A} \\cdot \\delta A \\right) \\oplus \\left( \\frac{\\partial \\epsilon}{\\partial B} \\cdot \\delta B \\right) \\oplus \\left( \\frac{\\partial \\epsilon}{\\partial C} \\cdot \\delta C \\right) \\oplus \\left( \\frac{\\partial \\epsilon}{\\partial D} \\cdot \\delta D \\right)\n",
    "$$\n",
    "\n",
    "$$\n",
    "\\delta \\epsilon = \\exp(-E \\cdot C) \\left( \\delta A \\cdot E^{-B} - \\frac{\\delta B \\cdot A \\cdot B}{E^{B+1}} - \\frac{A \\cdot C \\cdot \\delta C }{E^{B}} \\right) + \\delta D\n",
    "$$"
   ]
  },
  {
   "cell_type": "code",
   "execution_count": 127,
   "id": "f064d7d7",
   "metadata": {},
   "outputs": [],
   "source": [
    "import numpy as np\n",
    "\n",
    "# Parametri del fit e le relative incertezze\n",
    "A = 1.55710\n",
    "delta_A = 2.91779\n",
    "\n",
    "B = -0.09831\n",
    "delta_B = 1.03314\n",
    "\n",
    "C = 3.53226\n",
    "delta_C = 2.39943\n",
    "\n",
    "D = 0.10209\n",
    "delta_D = 0.02355\n",
    "\n",
    "def epsilon_spettrometer(theta): \n",
    "    A = 1.55710\n",
    "    B = -0.09831\n",
    "    C = 3.53226\n",
    "    D = 0.10209\n",
    "   \n",
    "    E  = 511/(2 - np.cos(theta)) * 1e-3 #da MeV a keV\n",
    "\n",
    "    return A * pow(E, -B) * np.exp(-C * E) + D\n",
    "\n",
    "def delta_eff(E):\n",
    "    # Calcolo del termine esponenziale\n",
    "    exp_term = np.exp(-E * C)\n",
    "    \n",
    "    # Calcolo dei singoli contributi all'incertezza\n",
    "    term1 = delta_A * E**(-B)\n",
    "    term2 = (delta_B * A * B) / (E**(B + 1))\n",
    "    term3 = (A * C * delta_C) / (E**B)\n",
    "\n",
    "    # Formula completa\n",
    "    delta_epsilon = exp_term * (term1 - term2 - term3) + delta_D\n",
    "    return delta_epsilon\n"
   ]
  },
  {
   "cell_type": "markdown",
   "id": "353213cb",
   "metadata": {},
   "source": [
    "## $n_{gate}$ uncertainty\n",
    "\n",
    "Given: \n",
    "\n",
    "$$\n",
    "n_{gate} = 2 \\cdot S \\left(t \\right) \\cdot \\text{BR} \\cdot \\frac{\\Delta\\Omega}{4\\pi} \\cdot \\epsilon_{gate}(511)\n",
    "$$\n",
    "\n",
    "where: \n",
    "- $S(t)$ is the activity of the source in Bq\n",
    "- $\\text{BR}$ is the branching ratio of the 511 keV photon\n",
    "- $\\frac{\\Delta\\Omega}{4\\pi}$ is the solid angle\n",
    "- $\\epsilon_{gate}(511)$ is the efficiency of the gate detector for the 511 keV photon\n",
    "\n",
    "In this case one can assume that the branching ratio (BR) is well known, the uncertainties linked to $S \\left(t \\right)$ and $\\epsilon_{gate}$ are statistical errors and the one associated to $\\Delta \\Omega$ is systematical.\n",
    "\n",
    "### $\\delta S(t)$ computation\n",
    "For this uncertainty, an error of 0.5 cm in the distance from the detector and 3 mm in the displacement from the detector axis was considered. The acquisition times were assumed to be error-free, as they were set within the Maestro application. For the number of counts, the uncertainty associated with Poisson statistics was taken into account.\n",
    "The associated error is then:\n",
    "\n",
    "$$\n",
    "\\delta S \\left( t \\right) = 11647 \\ Bq.\n",
    "$$\n",
    "\n",
    "### $\\delta \\epsilon_{gate}$ computation\n",
    "\n",
    "For this computation please refer to the previous section.\n",
    "We impose a 5% error on each point and from the linear fit we gain:\n",
    "\n",
    "$$\n",
    "\\delta \\epsilon_{gate} (511) = 0.03344  \n",
    "$$\n",
    "\n",
    "### $\\delta (\\Delta \\Omega / 4\\pi)$ computation\n",
    "\n",
    "For the uncertainty linked to the measurement of the solid angle covered by the spectrometer one can start from the formula:\n",
    "\n",
    "$$\n",
    "\\frac{\\Delta\\Omega}{4\\pi} =  \\frac{1 - \\cos (\\beta)}{2}\n",
    "$$\n",
    "\n",
    "where $\\beta$ is computed as: \n",
    "\n",
    "$$\n",
    "\\beta = \\arctan \\left( \\frac{r_{gate}}{d_{source-gate}} \\right).\n",
    "$$\n",
    "\n",
    "Both of these two measurements are known with their uncertainty, $r_{gate} = (1,27 \\pm 0,02) \\, cm$ and ${d_{source-gate}} = d =(18.54 \\pm 0.5) \\, cm$, knowing that one can propagate the errors using the error propagation expression.\n",
    "\n",
    "$$\n",
    "\\left(\\delta (\\Delta \\Omega / 4\\pi) \\right)^2 = \\left( \\frac{\\partial (\\Delta \\Omega / 4\\pi)}{\\partial r} \\delta r\\right)^2 + \\left( \\frac{\\partial (\\Delta \\Omega / 4\\pi)}{\\partial d} \\delta d\\right)^2\n",
    "$$\n",
    "\n",
    "and that:\n",
    "\n",
    "$$\n",
    "\\frac{\\partial (\\Delta \\Omega / 4\\pi)}{\\partial r} = \\frac{1}{2} \\cdot \\sin(\\beta) \\frac{\\partial \\beta}{\\partial r} = \\frac{1}{2} \\cdot \\frac{r \\cdot d}{(r^2 + d^2)^{3/2}}\n",
    "$$\n",
    "\n",
    "$$\n",
    "\\frac{\\partial (\\Delta \\Omega / 4\\pi)}{\\partial d} = \\frac{1}{2} \\cdot \\sin(\\beta) \\frac{\\partial \\beta}{\\partial d} = - \\frac{1}{2} \\cdot \\frac{r^2}{(r^2 + d^2)^{3/2}}\n",
    "$$\n",
    "\n",
    "one can find the uncertainty asssociated to the solid angle using the formula below:\n",
    "\n",
    "$$\n",
    "\\delta \\left(\\Delta \\Omega / 4\\pi \\right) = \\sqrt{\\left(\\frac{1}{2} \\cdot\\frac{r \\cdot d}{(r^2 + d^2)^{3/2}} \\cdot \\delta r \\right)^2 + \\left(\\frac{1}{2} \\cdot \\frac{r^2}{(r^2 + d^2)^{3/2}} \\cdot \\delta d \\right)^2}\n",
    "$$\n"
   ]
  },
  {
   "cell_type": "code",
   "execution_count": 128,
   "id": "4b8ba78d",
   "metadata": {},
   "outputs": [
    {
     "name": "stdout",
     "output_type": "stream",
     "text": [
      "Incertezza sulla frazione di angolo solido ΔΩ/4π:1.16897e-03 +/- 7.27579e-05\n"
     ]
    }
   ],
   "source": [
    "import math\n",
    "\n",
    "# Valori noti (convertiti in metri se vuoi usare il SI, qui rimangono in cm)\n",
    "r = 1.27       # cm\n",
    "delta_r = 0.02 # cm\n",
    "d = 18.54       # cm\n",
    "delta_d = 0.5  # cm\n",
    "\n",
    "# Denominatore comune\n",
    "denominator = (r**2 + d**2)**(3/2)\n",
    "\n",
    "# Derivate parziali moltiplicate per incertezze\n",
    "term_r = (0.5 * r * d / denominator) * delta_r\n",
    "term_d = (0.5 * r**2 / denominator) * delta_d\n",
    "\n",
    "# Errore totale\n",
    "delta_Omega = math.sqrt(term_r**2 + term_d**2)\n",
    "\n",
    "Omega = (1 - np.cos(np.arctan(r/d)))/2\n",
    "\n",
    "print(f\"Incertezza sulla frazione di angolo solido ΔΩ/4π:{Omega:.5e} +/- {delta_Omega:.5e}\")\n"
   ]
  },
  {
   "cell_type": "markdown",
   "id": "a24fb8d6",
   "metadata": {},
   "source": [
    "## Final results\n",
    "\n",
    "Knowing all the information we need, the uncertainty on the rate measurement can be expressed as:\n",
    "\n",
    "$$\n",
    "\\frac{\\delta R}{R} = \\left[ \\left(\\frac{\\delta \\epsilon_{spectrometer}}{\\epsilon_{spectrometer}} \\right) \\oplus \\left(\\frac{\\delta S(t)}{S(t)} \\right) \\oplus \\left(\\frac{\\delta \\epsilon_{gate}}{\\epsilon_{gate}} \\right) \\right] \\pm \\left( \\frac{\\delta \\Delta \\Omega}{\\Delta \\Omega} \\right)\n",
    "$$\n",
    "\n"
   ]
  },
  {
   "cell_type": "code",
   "execution_count": 129,
   "id": "04b0ed4f",
   "metadata": {},
   "outputs": [],
   "source": [
    "def leggi_dati(file_path):\n",
    "    # Inizializza liste per ogni colonna\n",
    "    angle, rate, err_rate = [], [], []\n",
    "    count, err_count = [], []\n",
    "    channel, err_channel = [], []\n",
    "    sigma, err_sigma = [], []\n",
    "\n",
    "    with open(file_path, 'r') as file:\n",
    "        lines = file.readlines()\n",
    "\n",
    "        # Salta l'intestazione\n",
    "        for line in lines[1:]:\n",
    "            valori = line.strip().split()\n",
    "            if len(valori) != 9:\n",
    "                continue  # Salta righe non valide\n",
    "\n",
    "            angle.append(float(valori[0]))\n",
    "            rate.append(float(valori[1]))\n",
    "            err_rate.append(float(valori[2]))\n",
    "            count.append(float(valori[3]))\n",
    "            err_count.append(float(valori[4]))\n",
    "            channel.append(float(valori[5]))\n",
    "            err_channel.append(float(valori[6]))\n",
    "            sigma.append(float(valori[7]))\n",
    "            err_sigma.append(float(valori[8]))\n",
    "\n",
    "    return angle, rate, err_rate, count, err_count, channel, err_channel, sigma, err_sigma\n",
    "\n",
    "file_path = \"../Codes/data_analysis/parameters_pol4_riflection.txt\"\n",
    "\n",
    "angle, rate, err_rate, count, err_count, channel, err_channel, sigma, err_sigma = leggi_dati(file_path)\n",
    "\n",
    "file_path = \"../Codes/data_analysis/parameters_pol4_trasmission.txt\"\n",
    "\n",
    "angle_trasm, rate_trasm, err_rate_trasm, count_trasm, err_count_trasm, channel_trasm, err_channel_trasm, sigma_trasm, err_sigma_trasm = leggi_dati(file_path)"
   ]
  },
  {
   "cell_type": "code",
   "execution_count": null,
   "id": "05fa902f",
   "metadata": {},
   "outputs": [],
   "source": [
    "# Dati tabella: angoli in gradi e valori corrispondenti\n",
    "angles_deg = np.array([\n",
    "    140, 135, 130, 125, 120, 115, 110, 105, 100, 95,\n",
    "    90, 85, 80, 75, 70, 65, 60, 55, 50, 45,\n",
    "    40, 35, 30, 25, 20\n",
    "])\n",
    "\n",
    "values = np.array([\n",
    "    0.03244310169, 0.03244310169, 0.03244310169, 0.03244310169, 0.03244310169,\n",
    "    0.03244310169, 0.03244310169, 0.03249877382, 0.03249877382, 0.03249877382,\n",
    "    0.03255449356, 0.03255449356, 0.03261026089, 0.03261026089, 0.0327778485,\n",
    "    0.03288981157, 0.03300196504, 0.03322684314, 0.03345248278, 0.03384918453,\n",
    "    0.03436265618, 0.03522700787, 0.03669138374, 0.03964779781, 0.04777407735\n",
    "]) \n",
    "\n",
    "def angle_spectrometer(theta):\n",
    "    # Converti radianti in gradi\n",
    "    angle_deg = np.degrees(theta)\n",
    "    \n",
    "    # Trova indice del valore con angolo più vicino\n",
    "    idx = (np.abs(angles_deg - angle_deg)).argmin()\n",
    "    \n",
    "    # Restituisci il valore corrispondente\n",
    "    return 0.027\n",
    "\n",
    "# Calcola i valori corrispondenti di angle_spectrometer per ogni angolo\n",
    "spectrometer_values = np.array([angle_spectrometer(theta) for theta in angle])\n",
    "\n",
    "angle_trasm_25 = 0.02686251355\n",
    "angle_trasm_45 = 0.009017319376\n",
    "\n",
    "spectrometer_values_trasm = np.array([angle_trasm_45, angle_trasm_25, angle_trasm_45])\n",
    "corrected_rates_trasm = rate_trasm / spectrometer_values_trasm\n",
    "\n",
    "# Dividi ogni rate per il corrispondente valore di angle_spectrometer\n",
    "corrected_rates = rate / spectrometer_values"
   ]
  },
  {
   "cell_type": "code",
   "execution_count": 131,
   "id": "a749a03c",
   "metadata": {},
   "outputs": [
    {
     "name": "stdout",
     "output_type": "stream",
     "text": [
      "[0.17222895 0.48804469 0.40595746 0.27685635 0.1581006  0.29342592\n",
      " 0.14518601 0.16398483]\n",
      "[0.77354049 0.22519077 0.47691257]\n"
     ]
    }
   ],
   "source": [
    "S = 188900\n",
    "dS = 11647\n",
    "\n",
    "E = 0.14700\n",
    "dE = 0.03344\n",
    "\n",
    "Omega = Omega\n",
    "dOmega = delta_Omega\n",
    "\n",
    "angles = np.radians(angle)\n",
    "energies = 511/(2 - np.cos(angles))\n",
    "\n",
    "angles_trasm = np.radians(angle_trasm)\n",
    "energies_trasm = 511/(2-np.cos(angles_trasm))\n",
    "\n",
    "efficiencies = epsilon_spettrometer(angles)\n",
    "efficiencies_trasm = epsilon_spettrometer(angles_trasm)\n",
    "\n",
    "err_tot = corrected_rates * (\n",
    "    np.sqrt((dS / S)**2 + (dE / E)**2 + (delta_eff(energies) / efficiencies)**2) + dOmega / Omega\n",
    ")\n",
    "\n",
    "err_tot_trasm = corrected_rates_trasm * (\n",
    "    np.sqrt((dS / S)**2 + (dE / E)**2 + (delta_eff(energies_trasm) / efficiencies_trasm)**2) + dOmega / Omega\n",
    ")\n",
    "\n",
    "print(err_tot)\n",
    "print(err_tot_trasm)"
   ]
  },
  {
   "cell_type": "markdown",
   "id": "5371ae4b",
   "metadata": {},
   "source": [
    "# Energy uncertainties\n",
    "\n",
    "On the x-axis of our Klein-Nishina plot we put the scattering angles, linked to these quantities there are a few uncertainty factors such as:\n",
    "- The shift in the position of the Compton peak due to temperature instability and other environmental factors.\n",
    "- The error associated to the measurement of the scattering angle. \n",
    "- The uncertainty linked to the spectrometer resolution, which, of course, is not ideal.\n",
    "- The statistic error derived from the gaussian fit of the Compton peak.\n",
    "\n",
    "While these first three factors have a systematic nature, the last one can be considered as strictly statistical. Knowing this it is crucial to transform every energy-related quantity into an angle-related quantity, one can do that simply by using the inverted Compton formula shown below:\n",
    "\n",
    "$$\n",
    "\\theta (E') = \\arccos \\left[2- \\frac{511}{E'} \\right]\n",
    "$$\n",
    "\n",
    "that gives rise to the associated uncertainty formula, which is:\n",
    "\n",
    "$$\n",
    "\\delta \\theta = \\left |\\frac{511}{E'^2 \\cdot \\sqrt{1 - \\left(2 - \\frac{511}{E'} \\right)^2}} \\right | \\cdot \\delta E' \n",
    "$$\n",
    "\n",
    "\n",
    "\n",
    "\n",
    "\n"
   ]
  },
  {
   "cell_type": "markdown",
   "id": "0005572f",
   "metadata": {},
   "source": [
    "## Peak shift uncertainty\n",
    "\n",
    "Knowing that the Compton peak undergoes a mean fluctuation called $\\Delta E_{peak} = 8 \\, ch = 24 \\, keV$, we used $\\delta E_{peak} = \\frac{\\Delta E_{peak}}{2} = 4 \\, ch = 12 \\,keV$ to quantify our peak energy uncertainty. This can be expressed as:\n",
    "\n",
    "$$\n",
    "\\delta \\theta_{peak} = \\left |\\frac{511}{E'^2 \\cdot \\sqrt{1 - \\left(2 - \\frac{511}{E'} \\right)^2}} \\right | \\cdot \\delta E_{peak}  .\n",
    "$$"
   ]
  },
  {
   "cell_type": "code",
   "execution_count": 132,
   "id": "cd8a3233",
   "metadata": {},
   "outputs": [
    {
     "name": "stdout",
     "output_type": "stream",
     "text": [
      "[0.0556278  0.05646795 0.06101157 0.06869625 0.07953857 0.09393346\n",
      " 0.11266458 0.13707422]\n"
     ]
    }
   ],
   "source": [
    "dE = 12 #keV\n",
    "dThetaPeak =np.array([])\n",
    "\n",
    "for i in range(len(energies)):\n",
    "    dTheta = 511/(energies[i]**2 * np.sqrt(1 - (2 - 511/energies[i])**2)) * dE\n",
    "    dThetaPeak = np.append(dThetaPeak, dTheta)\n",
    "print(dThetaPeak)"
   ]
  },
  {
   "cell_type": "code",
   "execution_count": 133,
   "id": "cedf368e",
   "metadata": {},
   "outputs": [
    {
     "name": "stdout",
     "output_type": "stream",
     "text": [
      "[0.0570896  0.0556278  0.05646795]\n"
     ]
    }
   ],
   "source": [
    "dThetaPeak_trasm =np.array([])\n",
    "\n",
    "for i in range(len(energies_trasm)):\n",
    "    dTheta = 511/(energies_trasm[i]**2 * np.sqrt(1 - (2 - 511/energies_trasm[i])**2)) * dE\n",
    "    dThetaPeak_trasm = np.append(dThetaPeak_trasm, dTheta)\n",
    "print(dThetaPeak_trasm)"
   ]
  },
  {
   "cell_type": "markdown",
   "id": "5136c254",
   "metadata": {},
   "source": [
    "## Scattering angle uncertainty\n",
    "\n",
    "This is chosen besed on the instrumental error used to measure $\\theta_{scattering}$, and it is called $\\delta \\theta_{scattering}$.\n",
    "\n",
    "Assuming $a = 5 \\, deg$ one can compute the error assocaited to the placement of the detector at a given scattering angle as:\n",
    "\n",
    "$$\n",
    "\\delta \\theta_{scattering} = \\frac{a}{\\sqrt{12}}\n",
    "$$\n"
   ]
  },
  {
   "cell_type": "code",
   "execution_count": 134,
   "id": "b0a7063c",
   "metadata": {},
   "outputs": [
    {
     "name": "stdout",
     "output_type": "stream",
     "text": [
      "0.02519165783658636\n"
     ]
    }
   ],
   "source": [
    "dThetaScattering = (5 * np.pi/180) / np.sqrt(12)\n",
    "print(dThetaScattering)"
   ]
  },
  {
   "cell_type": "markdown",
   "id": "0b6616cd",
   "metadata": {},
   "source": [
    "## Resolution uncertainty\n",
    "\n",
    "The error due to the resolution of a detector can be expressed by means of the percentile resolution of our spectrometer, that can be computed as:\n",
    "\n",
    "$$\n",
    "\\delta_{resolution} = \\frac{2.35 \\cdot \\sigma_{fit}}{channel} \\cdot 100\n",
    "$$\n",
    "\n",
    "Just like the previous case, this quantity needs to be expressed in terms of the scattering angle, this can be computed using:\n",
    "\n",
    "$$\n",
    "\\delta \\theta_{resolution} = \\left| \\frac{1}{sin^2 \\theta \\cdot (E')^2}\\right| \\cdot \\delta_{resolution} \n",
    "$$"
   ]
  },
  {
   "cell_type": "code",
   "execution_count": 135,
   "id": "d9fdc631",
   "metadata": {},
   "outputs": [
    {
     "name": "stdout",
     "output_type": "stream",
     "text": [
      "[0.00489317 0.00197468 0.00278447 0.00119245 0.00181777 0.00130629\n",
      " 0.00193426 0.00145591]\n",
      "[0.00611945 0.00475065 0.00326955]\n"
     ]
    }
   ],
   "source": [
    "dThetaRis = 1/(np.sin(angles)**2 * (energies**2)) * err_sigma * 2.35 / angles * 100\n",
    "\n",
    "dthetaRis_trasm = 1/(np.sin(angles_trasm)**2 * (energies_trasm**2)) * err_sigma_trasm * 2.35 / angles_trasm * 100\n",
    "\n",
    "print(dThetaRis)\n",
    "print(dthetaRis_trasm)"
   ]
  },
  {
   "cell_type": "markdown",
   "id": "d64ce39d",
   "metadata": {},
   "source": [
    "## Statistical uncertainty\n",
    "\n",
    "The error derived solely from the fit of the Compton peak can be taken in account with the formula:\n",
    "\n",
    "$$\n",
    "\\delta_{fit} = \\frac{\\sigma_{fit}}{\\sqrt{N}}\n",
    "$$\n",
    "\n",
    "Where N is the number of elements in my Compton peak, here as well one needs to express this error in terms of the scattering angle, the formula used is the same:\n",
    "\n",
    "$$\n",
    "\\delta \\theta_{fit} = \\left| \\frac{1}{sin^2 \\theta \\cdot (E')^2}\\right| \\cdot \\delta_{fit}.\n",
    "$$"
   ]
  },
  {
   "cell_type": "code",
   "execution_count": 136,
   "id": "1c11037c",
   "metadata": {},
   "outputs": [
    {
     "name": "stdout",
     "output_type": "stream",
     "text": [
      "[1.57231628e-07 6.43978028e-08 1.19067243e-07 4.74724502e-08\n",
      " 1.38304779e-07 6.96607856e-08 1.82814040e-07 1.23204113e-07]\n",
      "[1.35513929e-07 1.60857662e-07 1.16761642e-07]\n"
     ]
    }
   ],
   "source": [
    "dThetaFit = 1/(np.sin(angles)**2 * (energies**2)) * err_sigma / np.sqrt(count)\n",
    "\n",
    "dThetaFit_trasm = 1/(np.sin(angles_trasm)**2 * (energies_trasm**2)) * err_sigma_trasm / np.sqrt(count_trasm)\n",
    "\n",
    "print(dThetaFit)\n",
    "print(dThetaFit_trasm)"
   ]
  },
  {
   "cell_type": "markdown",
   "id": "9025b916",
   "metadata": {},
   "source": [
    "## Final results\n",
    "\n",
    "One can express the error bars on the x-axis as a sum of statistical and systematical uncertainties following the expression:\n",
    "\n",
    "$$\n",
    "\\delta \\theta = \\delta \\theta_{stat} \\pm \\delta \\theta_{syst} = (\\delta \\theta_{fit}) \\pm \\left(\\delta \\theta_{peak} \\oplus \\delta \\theta_{scattering} \\oplus \\delta \\theta_{resolution} \\right)\n",
    "$$"
   ]
  },
  {
   "cell_type": "code",
   "execution_count": 137,
   "id": "dd2a35b9",
   "metadata": {},
   "outputs": [
    {
     "name": "stdout",
     "output_type": "stream",
     "text": [
      "[0.06126201 0.06186401 0.06606664 0.07317939 0.08345257 0.09726168\n",
      " 0.11546302 0.1393776 ]\n",
      "[0.06270013 0.0612508  0.06191892]\n"
     ]
    }
   ],
   "source": [
    "dThetaTOT =   dThetaFit + np.sqrt(dThetaPeak**2 + dThetaRis**2 + dThetaScattering**2)\n",
    "\n",
    "dThetaTOT_trasm =   dThetaFit_trasm + np.sqrt(dThetaPeak_trasm**2 + dthetaRis_trasm**2 + dThetaScattering**2)\n",
    "\n",
    "print (dThetaTOT)\n",
    "print (dThetaTOT_trasm)"
   ]
  },
  {
   "cell_type": "code",
   "execution_count": 138,
   "id": "e85c9a24",
   "metadata": {},
   "outputs": [
    {
     "name": "stdout",
     "output_type": "stream",
     "text": [
      "File 'errori_arrays' salvati con successo.\n"
     ]
    }
   ],
   "source": [
    "np.savez('errori_arrays_riflex.npz', y_err=err_tot, x_err=dThetaTOT)\n",
    "\n",
    "np.savez('errori_arrays_trasm.npz', y_err = err_tot_trasm , x_err = dThetaTOT_trasm)\n",
    "\n",
    "print(\"File 'errori_arrays' salvati con successo.\")"
   ]
  }
 ],
 "metadata": {
  "kernelspec": {
   "display_name": "Python (myenv)",
   "language": "python",
   "name": "myenv"
  },
  "language_info": {
   "codemirror_mode": {
    "name": "ipython",
    "version": 3
   },
   "file_extension": ".py",
   "mimetype": "text/x-python",
   "name": "python",
   "nbconvert_exporter": "python",
   "pygments_lexer": "ipython3",
   "version": "3.12.3"
  }
 },
 "nbformat": 4,
 "nbformat_minor": 5
}
